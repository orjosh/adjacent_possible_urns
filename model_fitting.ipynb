{
 "cells": [
  {
   "cell_type": "markdown",
   "id": "94d03c28",
   "metadata": {},
   "source": [
    "# Model fitting\n",
    "Fitting code taken from https://github.com/edugalt/TwitterHashtags/tree/master"
   ]
  },
  {
   "cell_type": "code",
   "execution_count": null,
   "id": "54a32539",
   "metadata": {},
   "outputs": [],
   "source": [
    "import os, sys, codecs\n",
    "import numpy as np\n",
    "import matplotlib.cm as cm\n",
    "import gzip\n",
    "import pandas as pd\n",
    "\n",
    "model_fitting_path = \"scripts/edugalt_TwitterHashtags_src/\"\n",
    "sys.path.append(model_fitting_path)\n",
    "\n",
    "from modules_distributor import fit\n",
    "from general import *"
   ]
  },
  {
   "cell_type": "code",
   "execution_count": null,
   "id": "e19b1622",
   "metadata": {},
   "outputs": [],
   "source": [
    "data_path = \"twitter_data/retweeted_freq_biden_JoeBiden_18_09_2022.csv\"\n",
    "\n",
    "df = pd.read_csv(data_path)\n",
    "freqs = df[\"n\"]"
   ]
  },
  {
   "cell_type": "code",
   "execution_count": null,
   "id": "39874488",
   "metadata": {},
   "outputs": [
    {
     "name": "stdout",
     "output_type": "stream",
     "text": [
      "simple\n",
      "([1.1194426998914966], 10.942894265991645, 10)\n",
      "double_powerlaw\n",
      "([2.38087439096071, 561887.5603964394], 10.543287944290256, 10)\n",
      "lognormal\n",
      "([7.757928713765043, 3.3557247356484297], 10.418007974990289, 10)\n",
      "naranan\n",
      "([1.1831238413673202, -7.779685070979482], 10.672619600373226, 10)\n",
      "expcutoff\n",
      "([0.8993188882714125, 1.3692844370024021e-06], 10.475916667001815, 10)\n",
      "weibull\n",
      "([-0.2558762321832687, -4.454207038364016], 11.539190527097078, 10)\n",
      "shifted\n",
      "([1.2959074797250651, 134.76723457279945], 10.504399814626264, 10)\n"
     ]
    },
    {
     "ename": "KeyboardInterrupt",
     "evalue": "",
     "output_type": "error",
     "traceback": [
      "\u001b[0;31m---------------------------------------------------------------------------\u001b[0m",
      "\u001b[0;31mKeyboardInterrupt\u001b[0m                         Traceback (most recent call last)",
      "\u001b[1;32m/home/josh/Desktop/honours/Untitled.ipynb Cell 5\u001b[0m line \u001b[0;36m5\n\u001b[1;32m      <a href='vscode-notebook-cell:/home/josh/Desktop/honours/Untitled.ipynb#W4sZmlsZQ%3D%3D?line=1'>2</a>\u001b[0m nrep \u001b[39m=\u001b[39m \u001b[39m10\u001b[39m \u001b[39m# number of repetitions\u001b[39;00m\n\u001b[1;32m      <a href='vscode-notebook-cell:/home/josh/Desktop/honours/Untitled.ipynb#W4sZmlsZQ%3D%3D?line=3'>4</a>\u001b[0m \u001b[39mfor\u001b[39;00m model \u001b[39min\u001b[39;00m models:\n\u001b[0;32m----> <a href='vscode-notebook-cell:/home/josh/Desktop/honours/Untitled.ipynb#W4sZmlsZQ%3D%3D?line=4'>5</a>\u001b[0m     res \u001b[39m=\u001b[39m fit(model \u001b[39m=\u001b[39;49m model, counts \u001b[39m=\u001b[39;49m freqs, nrep \u001b[39m=\u001b[39;49m nrep)\n\u001b[1;32m      <a href='vscode-notebook-cell:/home/josh/Desktop/honours/Untitled.ipynb#W4sZmlsZQ%3D%3D?line=5'>6</a>\u001b[0m     \u001b[39mprint\u001b[39m(model \u001b[39m+\u001b[39m \u001b[39m\"\u001b[39m\u001b[39m\\n\u001b[39;00m\u001b[39m\"\u001b[39m \u001b[39m+\u001b[39m \u001b[39mstr\u001b[39m(res))\n",
      "File \u001b[0;32m~/Desktop/honours/scripts/edugalt_TwitterHashtags_src/modules_distributor.py:43\u001b[0m, in \u001b[0;36mfit\u001b[0;34m(model, counts, nrep, rmin_Fit, rmax_Fit)\u001b[0m\n\u001b[1;32m     40\u001b[0m     out\u001b[39m=\u001b[39mfit_simple(counts,nrep,rmin_Fit,rmax_Fit)\n\u001b[1;32m     42\u001b[0m \u001b[39mif\u001b[39;00m model\u001b[39m==\u001b[39m\u001b[39m\"\u001b[39m\u001b[39mdouble_2gammas\u001b[39m\u001b[39m\"\u001b[39m:\n\u001b[0;32m---> 43\u001b[0m     out\u001b[39m=\u001b[39mfit_double_2gammas(counts,nrep,rmin_Fit,rmax_Fit)\n\u001b[1;32m     45\u001b[0m \u001b[39mreturn\u001b[39;00m(out)\n",
      "File \u001b[0;32m~/Desktop/honours/scripts/edugalt_TwitterHashtags_src/modules_distributor.py:93\u001b[0m, in \u001b[0;36mfit_double_2gammas\u001b[0;34m(counts, nrep, rmin_fit, rmax_fit)\u001b[0m\n\u001b[1;32m     91\u001b[0m     rm_0 \u001b[39m=\u001b[39m \u001b[39mint\u001b[39m(  np\u001b[39m.\u001b[39mrandom\u001b[39m.\u001b[39mrandom()\u001b[39m*\u001b[39m( x2_0[\u001b[39m1\u001b[39m]\u001b[39m-\u001b[39mx2_0[\u001b[39m0\u001b[39m]  ) \u001b[39m+\u001b[39m x2_0[\u001b[39m0\u001b[39m] )\n\u001b[1;32m     92\u001b[0m \u001b[39m#     print(gamma2_0,rm_0)\u001b[39;00m\n\u001b[0;32m---> 93\u001b[0m     result \u001b[39m=\u001b[39m mle_disc_minmax_optimize_2expzipf_3par(counts,rmin_fit,rmax_fit,gamma1_0,gamma2_0,rm_0)\n\u001b[1;32m     94\u001b[0m     gamma1_tmp,gamma2_tmp,rm_tmp \u001b[39m=\u001b[39m result[\u001b[39m'\u001b[39m\u001b[39mx\u001b[39m\u001b[39m'\u001b[39m]\n\u001b[1;32m     95\u001b[0m     L_tmp \u001b[39m=\u001b[39m result[\u001b[39m'\u001b[39m\u001b[39mfun\u001b[39m\u001b[39m'\u001b[39m]\n",
      "File \u001b[0;32m~/Desktop/honours/scripts/edugalt_TwitterHashtags_src/modules_fitting_2exp.py:42\u001b[0m, in \u001b[0;36mmle_disc_minmax_optimize_2expzipf_3par\u001b[0;34m(x, kmin, kmax, gamma1_0, gamma2_0, km_0, method)\u001b[0m\n\u001b[1;32m     40\u001b[0m D0 \u001b[39m=\u001b[39m \u001b[39msum\u001b[39m((x\u001b[39m/\u001b[39mM)\u001b[39m*\u001b[39mrlog)\n\u001b[1;32m     41\u001b[0m \u001b[39m# result = fmin(func_mle_disc_2expzipf_2par, [gamma2_0,km_0], args=(x,N,M,D0,kmin,kmax,gamma1),xtol=10**(-6),ftol=10**(-6),disp=0,full_output=1)\u001b[39;00m\n\u001b[0;32m---> 42\u001b[0m result \u001b[39m=\u001b[39m minimize(\n\u001b[1;32m     43\u001b[0m     func_mle_disc_2expzipf_3par, \n\u001b[1;32m     44\u001b[0m     [gamma1_0,gamma2_0,km_0], \n\u001b[1;32m     45\u001b[0m     args\u001b[39m=\u001b[39;49m(x,N,M,D0,kmin,kmax),\n\u001b[1;32m     46\u001b[0m     \u001b[39m# bounds = ((1.0,None),(1.,None)),\u001b[39;49;00m\n\u001b[1;32m     47\u001b[0m     options \u001b[39m=\u001b[39;49m {\u001b[39m'\u001b[39;49m\u001b[39mdisp\u001b[39;49m\u001b[39m'\u001b[39;49m:\u001b[39mFalse\u001b[39;49;00m},\n\u001b[1;32m     48\u001b[0m     method\u001b[39m=\u001b[39;49mmethod)\n\u001b[1;32m     49\u001b[0m \u001b[39m# convergence message 0...good,1...bad\u001b[39;00m\n\u001b[1;32m     50\u001b[0m \u001b[39m# warnflag = result[4]\u001b[39;00m\n\u001b[1;32m     51\u001b[0m warnflag \u001b[39m=\u001b[39m result[\u001b[39m'\u001b[39m\u001b[39msuccess\u001b[39m\u001b[39m'\u001b[39m]\n",
      "File \u001b[0;32m~/Desktop/honours/lib/python3.11/site-packages/scipy/optimize/_minimize.py:698\u001b[0m, in \u001b[0;36mminimize\u001b[0;34m(fun, x0, args, method, jac, hess, hessp, bounds, constraints, tol, callback, options)\u001b[0m\n\u001b[1;32m    695\u001b[0m callback \u001b[39m=\u001b[39m _wrap_callback(callback, meth)\n\u001b[1;32m    697\u001b[0m \u001b[39mif\u001b[39;00m meth \u001b[39m==\u001b[39m \u001b[39m'\u001b[39m\u001b[39mnelder-mead\u001b[39m\u001b[39m'\u001b[39m:\n\u001b[0;32m--> 698\u001b[0m     res \u001b[39m=\u001b[39m _minimize_neldermead(fun, x0, args, callback, bounds\u001b[39m=\u001b[39;49mbounds,\n\u001b[1;32m    699\u001b[0m                                \u001b[39m*\u001b[39;49m\u001b[39m*\u001b[39;49moptions)\n\u001b[1;32m    700\u001b[0m \u001b[39melif\u001b[39;00m meth \u001b[39m==\u001b[39m \u001b[39m'\u001b[39m\u001b[39mpowell\u001b[39m\u001b[39m'\u001b[39m:\n\u001b[1;32m    701\u001b[0m     res \u001b[39m=\u001b[39m _minimize_powell(fun, x0, args, callback, bounds, \u001b[39m*\u001b[39m\u001b[39m*\u001b[39moptions)\n",
      "File \u001b[0;32m~/Desktop/honours/lib/python3.11/site-packages/scipy/optimize/_optimize.py:961\u001b[0m, in \u001b[0;36m_minimize_neldermead\u001b[0;34m(func, x0, args, callback, maxiter, maxfev, disp, return_all, initial_simplex, xatol, fatol, adaptive, bounds, **unknown_options)\u001b[0m\n\u001b[1;32m    959\u001b[0m \u001b[39mif\u001b[39;00m bounds \u001b[39mis\u001b[39;00m \u001b[39mnot\u001b[39;00m \u001b[39mNone\u001b[39;00m:\n\u001b[1;32m    960\u001b[0m     xcc \u001b[39m=\u001b[39m np\u001b[39m.\u001b[39mclip(xcc, lower_bound, upper_bound)\n\u001b[0;32m--> 961\u001b[0m fxcc \u001b[39m=\u001b[39m func(xcc)\n\u001b[1;32m    963\u001b[0m \u001b[39mif\u001b[39;00m fxcc \u001b[39m<\u001b[39m fsim[\u001b[39m-\u001b[39m\u001b[39m1\u001b[39m]:\n\u001b[1;32m    964\u001b[0m     sim[\u001b[39m-\u001b[39m\u001b[39m1\u001b[39m] \u001b[39m=\u001b[39m xcc\n",
      "File \u001b[0;32m~/Desktop/honours/lib/python3.11/site-packages/scipy/optimize/_optimize.py:620\u001b[0m, in \u001b[0;36m_wrap_scalar_function_maxfun_validation.<locals>.function_wrapper\u001b[0;34m(x, *wrapper_args)\u001b[0m\n\u001b[1;32m    618\u001b[0m ncalls[\u001b[39m0\u001b[39m] \u001b[39m+\u001b[39m\u001b[39m=\u001b[39m \u001b[39m1\u001b[39m\n\u001b[1;32m    619\u001b[0m \u001b[39m# A copy of x is sent to the user function (gh13740)\u001b[39;00m\n\u001b[0;32m--> 620\u001b[0m fx \u001b[39m=\u001b[39m function(np\u001b[39m.\u001b[39;49mcopy(x), \u001b[39m*\u001b[39;49m(wrapper_args \u001b[39m+\u001b[39;49m args))\n\u001b[1;32m    621\u001b[0m \u001b[39m# Ideally, we'd like to a have a true scalar returned from f(x). For\u001b[39;00m\n\u001b[1;32m    622\u001b[0m \u001b[39m# backwards-compatibility, also allow np.array([1.3]),\u001b[39;00m\n\u001b[1;32m    623\u001b[0m \u001b[39m# np.array([[1.3]]) etc.\u001b[39;00m\n\u001b[1;32m    624\u001b[0m \u001b[39mif\u001b[39;00m \u001b[39mnot\u001b[39;00m np\u001b[39m.\u001b[39misscalar(fx):\n",
      "File \u001b[0;32m~/Desktop/honours/scripts/edugalt_TwitterHashtags_src/modules_fitting_2exp.py:126\u001b[0m, in \u001b[0;36mfunc_mle_disc_2expzipf_3par\u001b[0;34m(params, x, N, M, D0, kmin, kmax)\u001b[0m\n\u001b[1;32m    124\u001b[0m     summe1 \u001b[39m=\u001b[39m \u001b[39msum\u001b[39m((x[:\u001b[39mint\u001b[39m(km)]\u001b[39m/\u001b[39mM)\u001b[39m*\u001b[39mnp\u001b[39m.\u001b[39mlog(np\u001b[39m.\u001b[39marange(\u001b[39mint\u001b[39m(km))\u001b[39m+\u001b[39m\u001b[39m1\u001b[39m))\n\u001b[1;32m    125\u001b[0m summe2 \u001b[39m=\u001b[39m D0 \u001b[39m-\u001b[39m summe1\n\u001b[0;32m--> 126\u001b[0m summe3 \u001b[39m=\u001b[39m \u001b[39msum\u001b[39m((x[\u001b[39mint\u001b[39m(km)\u001b[39m+\u001b[39m\u001b[39m1\u001b[39m:]\u001b[39m/\u001b[39mM))\n\u001b[1;32m    127\u001b[0m L \u001b[39m=\u001b[39m np\u001b[39m.\u001b[39mlog(C) \u001b[39m+\u001b[39m gamma1\u001b[39m*\u001b[39msumme1 \u001b[39m+\u001b[39m gamma2\u001b[39m*\u001b[39msumme2 \u001b[39m-\u001b[39m summe3\u001b[39m*\u001b[39m(gamma2\u001b[39m-\u001b[39mgamma1)\u001b[39m*\u001b[39mnp\u001b[39m.\u001b[39mlog(km)\n\u001b[1;32m    128\u001b[0m \u001b[39mreturn\u001b[39;00m L\n",
      "\u001b[0;31mKeyboardInterrupt\u001b[0m: "
     ]
    }
   ],
   "source": [
    "models = ['simple', 'double_powerlaw', 'lognormal', 'naranan', 'expcutoff', 'weibull', 'shifted', 'double_2gammas']\n",
    "nrep = 10 # number of repetitions\n",
    "\n",
    "for model in models:\n",
    "    res = fit(model = model, counts = freqs, nrep = nrep)\n",
    "    print(model + \"\\n\" + str(res))"
   ]
  },
  {
   "cell_type": "markdown",
   "id": "b76ab199",
   "metadata": {},
   "source": [
    "simple\n",
    "([1.1194426998914966], 10.942894265991645, 10)\n",
    "double_powerlaw\n",
    "([2.38087439096071, 561887.5603964394], 10.543287944290256, 10)\n",
    "lognormal\n",
    "([7.757928713765043, 3.3557247356484297], 10.418007974990289, 10)\n",
    "naranan\n",
    "([1.1831238413673202, -7.779685070979482], 10.672619600373226, 10)\n",
    "expcutoff\n",
    "([0.8993188882714125, 1.3692844370024021e-06], 10.475916667001815, 10)\n",
    "weibull\n",
    "([-0.2558762321832687, -4.454207038364016], 11.539190527097078, 10)\n",
    "shifted\n",
    "([1.2959074797250651, 134.76723457279945], 10.504399814626264, 10)"
   ]
  }
 ],
 "metadata": {
  "kernelspec": {
   "display_name": "honours",
   "language": "python",
   "name": "python3"
  },
  "language_info": {
   "codemirror_mode": {
    "name": "ipython",
    "version": 3
   },
   "file_extension": ".py",
   "mimetype": "text/x-python",
   "name": "python",
   "nbconvert_exporter": "python",
   "pygments_lexer": "ipython3",
   "version": "3.11.7"
  }
 },
 "nbformat": 4,
 "nbformat_minor": 5
}
